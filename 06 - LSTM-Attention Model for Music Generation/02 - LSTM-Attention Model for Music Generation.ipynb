{
 "cells": [
  {
   "cell_type": "markdown",
   "id": "2bea2884",
   "metadata": {},
   "source": [
    "# LSTM-Attention Model for Music Generation\n",
    "\n",
    "In this notebook, we will focus upon:\n",
    "+ Load original data \"Merge Notes to Chords\".\n",
    "+ We will use a subset of MIDI files from the dataset \n",
    "+ Sequence Preparation steps\n",
    "+ Stacked LSTM with attention based model\n",
    "+ Train and generate model"
   ]
  },
  {
   "cell_type": "code",
   "execution_count": null,
   "id": "582cec26",
   "metadata": {},
   "outputs": [],
   "source": [
    "!pip install tqdm"
   ]
  },
  {
   "cell_type": "markdown",
   "id": "9f2ceb6f",
   "metadata": {},
   "source": [
    "### Load original data \"Merge Notes to Chords\""
   ]
  },
  {
   "cell_type": "code",
   "execution_count": 1,
   "id": "fe193853",
   "metadata": {
    "scrolled": true
   },
   "outputs": [
    {
     "name": "stderr",
     "output_type": "stream",
     "text": [
      "100%|███████████████████████████████████████████████████████████████| 100/100 [05:28<00:00,  3.29s/it]\n"
     ]
    }
   ],
   "source": [
    "import os\n",
    "import time\n",
    "from tqdm import tqdm\n",
    "from music21 import converter\n",
    "\n",
    "data_dir = 'midi_dataset'\n",
    "\n",
    "original_scores = []\n",
    "for midi in tqdm(os.listdir(data_dir)):\n",
    "    try:\n",
    "        score = converter.parse(os.path.join(data_dir,midi)).chordify()\n",
    "        original_scores.append(score)\n",
    "    except:\n",
    "        pass"
   ]
  },
  {
   "cell_type": "code",
   "execution_count": 26,
   "id": "dfb03752",
   "metadata": {},
   "outputs": [
    {
     "name": "stderr",
     "output_type": "stream",
     "text": [
      "98it [00:07, 13.80it/s]\n"
     ]
    }
   ],
   "source": [
    "from music21 import note, chord\n",
    "\n",
    "original_chords = [[] for _ in original_scores]\n",
    "original_durations = [[] for _ in original_scores]\n",
    "original_keys = []\n",
    "\n",
    "# Extract notes, chords, durations, and keys\n",
    "for i, midi in tqdm(enumerate(original_scores)):\n",
    "    midi_key =str(midi.analyze('key')) # Example: \"C major\"\n",
    "    original_keys.append(midi_key) \n",
    "    try:\n",
    "        for stream in midi:\n",
    "            for element in stream:\n",
    "                if isinstance(element, note.Note):\n",
    "                    original_chords[i].append(element.pitch)\n",
    "                    original_durations[i].append(element.duration.quarterLength)\n",
    "                elif isinstance(element, chord.Chord):\n",
    "                    original_chords[i].append('.'.join(str(n) for n in element.pitches))\n",
    "                    original_durations[i].append(element.duration.quarterLength)\n",
    "    except TypeError:\n",
    "        pass\n",
    "\n",
    "assert list(map(len, original_chords)) == list(map(len, original_durations))"
   ]
  }
 ],
 "metadata": {
  "kernelspec": {
   "display_name": "Python 3 (ipykernel)",
   "language": "python",
   "name": "python3"
  },
  "language_info": {
   "codemirror_mode": {
    "name": "ipython",
    "version": 3
   },
   "file_extension": ".py",
   "mimetype": "text/x-python",
   "name": "python",
   "nbconvert_exporter": "python",
   "pygments_lexer": "ipython3",
   "version": "3.9.12"
  }
 },
 "nbformat": 4,
 "nbformat_minor": 5
}
