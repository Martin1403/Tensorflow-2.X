{
 "cells": [
  {
   "cell_type": "markdown",
   "id": "06d24cbf",
   "metadata": {},
   "source": [
    "## Make train CSV\n",
    "This notebook is focused on make train.csv\n",
    "from dataseet for train DeepSpeech model\n",
    "+ "
   ]
  },
  {
   "cell_type": "code",
   "execution_count": null,
   "id": "779d0036",
   "metadata": {},
   "outputs": [],
   "source": [
    "import csv\n",
    "import os\n",
    "\n",
    "# PATHS\n",
    "input_path = \"/root/Desktop/Datasets/Good manners/\"\n",
    "input_wavs = f\"{input_path}/wavs\"\n",
    "input_meta = f\"{input_path}/metadata.csv\"\n",
    "\n",
    "output_path = \"/root/Desktop/Datasets/Good manners/\"\n",
    "output_train = f\"{output_path}/train.csv\"\n",
    "\n",
    "\n",
    "\n",
    "# metadata.csv\n",
    "with open(input_meta, 'r', encoding=\"utf-8\") as reader:\n",
    "    # train.csv\n",
    "    with open(output_train, 'w', newline='') as csvfile:\n",
    "        # write header (wav_filename,wav_filesize,transcript)\n",
    "        fieldnames = ['wav_filename' ,'wav_filesize' , 'transcript']\n",
    "        writer = csv.DictWriter(csvfile, fieldnames=fieldnames)\n",
    "        writer.writeheader()\n",
    "    \n",
    "        for line in reader.read().splitlines():\n",
    "            name, text, _, _ = line.split('|')\n",
    "            name = f\"{input_wavs}/{name}.wav\"\n",
    "            size = os.stat(name).st_size\n",
    "            # write data\n",
    "            writer.writerow({\n",
    "                'wav_filename': name,\n",
    "                'wav_filesize': size,\n",
    "                'transcript': text,\n",
    "            })"
   ]
  }
 ],
 "metadata": {
  "kernelspec": {
   "display_name": "Python 3 (ipykernel)",
   "language": "python",
   "name": "python3"
  },
  "language_info": {
   "codemirror_mode": {
    "name": "ipython",
    "version": 3
   },
   "file_extension": ".py",
   "mimetype": "text/x-python",
   "name": "python",
   "nbconvert_exporter": "python",
   "pygments_lexer": "ipython3",
   "version": "3.9.12"
  }
 },
 "nbformat": 4,
 "nbformat_minor": 5
}
