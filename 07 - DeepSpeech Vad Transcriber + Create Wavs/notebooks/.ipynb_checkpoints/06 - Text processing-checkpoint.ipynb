{
 "cells": [
  {
   "cell_type": "markdown",
   "id": "f37edd8a",
   "metadata": {},
   "source": [
    "# Text processing\n",
    "Why text processing, becouse in some situations are missing characters\n",
    "+ A\n",
    "+ B\n",
    "+ C\n",
    "+ D\n",
    "\n",
    "[Links:]()\n"
   ]
  },
  {
   "cell_type": "markdown",
   "id": "bfcae226",
   "metadata": {},
   "source": [
    "### Text processing metadata.csv"
   ]
  },
  {
   "cell_type": "code",
   "execution_count": 22,
   "id": "02880771",
   "metadata": {},
   "outputs": [
    {
     "data": {
      "text/plain": [
       "\"that's fine i'd like to exchange five hundred euros into dollars\""
      ]
     },
     "execution_count": 22,
     "metadata": {},
     "output_type": "execute_result"
    }
   ],
   "source": [
    "import re\n",
    "\n",
    "def filter_text(text):\n",
    "    text = text.lower()\n",
    "    text = re.sub(r\"([a-z])([’])([a-z])\", r\"\\1'\\3\", text)\n",
    "    text = re.sub(r\"[^\\w ']\", \" \", text)     # a-z'\n",
    "    text = re.sub(\" +\", \" \", text)          # \"  \" -> \" \"\n",
    "    return text.strip()\n",
    "\n",
    "text = \"That’s fine. I’d like to exchange five hundred euros into dollars.\"\n",
    "filter_text(text)"
   ]
  },
  {
   "cell_type": "code",
   "execution_count": 19,
   "id": "96464f52",
   "metadata": {},
   "outputs": [],
   "source": [
    "meta_in = \"/root/Desktop/metadata.csv\"\n",
    "meta_out = \"/root/Desktop/metadata-out.csv\"\n",
    "sentences = []\n",
    "\n",
    "with open(meta_in, \"r\", encoding=\"utf-8\") as reader:\n",
    "    with open(meta_out, \"w\", encoding=\"utf-8\") as writer:\n",
    "        for line in reader.read().splitlines():\n",
    "            name, text, transcript, bleu = line.split(\"|\")\n",
    "\n",
    "            #if re.findall(f\" twentythree \", text):\n",
    "            text = re.sub('twentythree', \"twenty three\", text)\n",
    "                \n",
    "                \n",
    "            sentence = f\"{name}|{text}|{transcript}|{bleu}\\n\"\n",
    "            writer.writelines(sentence)"
   ]
  },
  {
   "cell_type": "code",
   "execution_count": null,
   "id": "daf60b16",
   "metadata": {},
   "outputs": [],
   "source": []
  }
 ],
 "metadata": {
  "kernelspec": {
   "display_name": "Python 3 (ipykernel)",
   "language": "python",
   "name": "python3"
  },
  "language_info": {
   "codemirror_mode": {
    "name": "ipython",
    "version": 3
   },
   "file_extension": ".py",
   "mimetype": "text/x-python",
   "name": "python",
   "nbconvert_exporter": "python",
   "pygments_lexer": "ipython3",
   "version": "3.9.12"
  }
 },
 "nbformat": 4,
 "nbformat_minor": 5
}
